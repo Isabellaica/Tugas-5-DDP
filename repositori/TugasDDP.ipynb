{
  "nbformat": 4,
  "nbformat_minor": 0,
  "metadata": {
    "colab": {
      "provenance": [],
      "authorship_tag": "ABX9TyM/tBgbRtHzgnrfIYrALyru",
      "include_colab_link": true
    },
    "kernelspec": {
      "name": "python3",
      "display_name": "Python 3"
    },
    "language_info": {
      "name": "python"
    }
  },
  "cells": [
    {
      "cell_type": "markdown",
      "metadata": {
        "id": "view-in-github",
        "colab_type": "text"
      },
      "source": [
        "<a href=\"https://colab.research.google.com/github/Isabellaica/Tugas-5-DDP/blob/main/repositori/TugasDDP.ipynb\" target=\"_parent\"><img src=\"https://colab.research.google.com/assets/colab-badge.svg\" alt=\"Open In Colab\"/></a>"
      ]
    },
    {
      "cell_type": "code",
      "execution_count": null,
      "metadata": {
        "colab": {
          "base_uri": "https://localhost:8080/"
        },
        "id": "HDVS1Xfa268T",
        "outputId": "58b4b604-f226-486d-bb9b-76747732fb64"
      },
      "outputs": [
        {
          "metadata": {
            "tags": null
          },
          "name": "stdout",
          "output_type": "stream",
          "text": [
            "['bus', 'double decker', 'yuton 11.000cc']\n",
            "['bus', 'double decker', 'yuton 11.000cc', 'kuning', '4', '4.000.000.000']\n"
          ]
        }
      ],
      "source": [
        "Mobil = [\"bus\", \"double decker\", \"yuton 11.000cc\"]\n",
        "print(Mobil)\n",
        "\n",
        "Mobil.append(\"kuning\")\n",
        "Mobil.append(\"4\")\n",
        "Mobil.append(\"4.000.000.000\")\n",
        "\n",
        "print(Mobil)\n",
        "\n",
        "pilihan = int(input(\"\"\"Silahkan pilih nomor dibawah ini\n",
        "untuk menggunakan tools dibawah ini\n",
        "==================================\n",
        "Pilihan\n",
        "==================================\n",
        "1. Pertambahan\n",
        "2. Pengurangan\n",
        "3. Pembagian\n",
        "=================================\n",
        " Pilihan mu? \"\"\"))\n",
        "\n",
        "# Menggunakan statement switch-case\n",
        "def pertambahan():\n",
        "    bilangan1 = int(input(\"bilangan 1 = \"))\n",
        "    bilangan2 = int(input(\"bilangan 2 = \"))\n",
        "    print(\"hasilnya adalah\", bilangan1 + bilangan2)\n",
        "\n",
        "def pengurangan():\n",
        "    bilangan1 = int(input(\"bilangan 1 = \"))\n",
        "    bilangan2 = int(input(\"bilangan 2 = \"))\n",
        "    print(\"hasilnya adalah\", bilangan1 - bilangan2)\n",
        "\n",
        "def pembagian():\n",
        "    bilangan1 = int(input(\"bilangan 1 = \"))\n",
        "    bilangan2 = int(input(\"bilangan 2 = \"))\n",
        "    if bilangan2 != 0:\n",
        "        print(\"hasilnya adalah\", bilangan1 / bilangan2)\n",
        "    else:\n",
        "        print(\"Tidak bisa membagi dengan nol!\")\n",
        "\n",
        "# Mengecek pilihan pengguna dan memanggil fungsi yang sesuai\n",
        "if pilihan == 1:\n",
        "    pertambahan()\n",
        "elif pilihan == 2:\n",
        "    pengurangan()\n",
        "elif pilihan == 3:\n",
        "    pembagian()\n",
        "else:\n",
        "    print(\"Pilihan tidak valid.\")\n",
        "\n",
        "\n"
      ]
    },
    {
      "cell_type": "code",
      "source": [],
      "metadata": {
        "id": "gS3GEyZD9ZaT"
      },
      "execution_count": null,
      "outputs": []
    }
  ]
}